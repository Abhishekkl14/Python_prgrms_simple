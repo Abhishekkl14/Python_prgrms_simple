{
 "cells": [
  {
   "cell_type": "code",
   "execution_count": 1,
   "id": "4c355749",
   "metadata": {},
   "outputs": [
    {
     "name": "stdout",
     "output_type": "stream",
     "text": [
      "{1: 1, 2: 2, 3: 1, 4: 3, 5: 1}\n"
     ]
    }
   ],
   "source": [
    "'''Create a Python function that takes a list of integers as input and returns a dictionary with the frequency count\n",
    "of each integer. '''\n",
    "def count_frequencies(int_list):\n",
    "    frequency_dict = {} \n",
    "    for num in int_list:\n",
    "        if num in frequency_dict:\n",
    "            frequency_dict[num] += 1\n",
    "        else:\n",
    "             frequency_dict[num] = 1\n",
    "    return frequency_dict\n",
    "# Example usage\n",
    "numbers = [1, 2, 2, 3, 4, 4, 4, 5]\n",
    "result = count_frequencies(numbers)\n",
    "print(result)"
   ]
  },
  {
   "cell_type": "code",
   "execution_count": 2,
   "id": "90178751",
   "metadata": {},
   "outputs": [
    {
     "name": "stdout",
     "output_type": "stream",
     "text": [
      "Select numbers\n",
      "1.addi\n",
      "2.subt\n",
      "3.multiply\n",
      "4.divi\n",
      "enter the number between 1-4\n"
     ]
    }
   ],
   "source": [
    "'''Write a Python program to simulate a simple calculator that performs basic arithmetic operations (addition,\n",
    "subtraction,multiplication,and division) based on user input.'''\n",
    "\n",
    "def add(x,y):\n",
    "    return x+y\n",
    "\n",
    "def sub(x,y):\n",
    "    return x-y\n",
    "\n",
    "def mulit(x,y):\n",
    "    return x*y\n",
    "def div(x,y):\n",
    "    if y==0:\n",
    "        return\"error divison by zero\"\n",
    "    return x/y\n",
    "\n",
    "def calculator():\n",
    "    print(\"Select numbers\")\n",
    "    print(\"1.addi\")\n",
    "    print(\"2.subt\")\n",
    "    print(\"3.multiply\")\n",
    "    print(\"4.divi\")\n",
    "    choice = input(\"enter the number between 1-4\")\n",
    "    if choice in ('1','2','3','4'):\n",
    "        num1 = float(input(\"Enter the 1st number\"))\n",
    "        num2 = float(input(\"Enter the 2nd number\"))\n",
    "        \n",
    "        if choice=='1':\n",
    "            print(f\"{num1}+{num2} = {add(num1,num2)}\")\n",
    "        elif choice=='2':\n",
    "            print(f\"{num1}-{num2} = {sub(num1,num2)}\")\n",
    "        elif choice =='3':\n",
    "            print(f\"{num1}*{num2} = {multi(num1,num2)}\")\n",
    "        elif choice =='4':\n",
    "            print(f\"{num1}/{num2} = {div(num1,num2)}\")\n",
    "        else:\n",
    "            print(\"invalid choice\")\n",
    "calculator()\n",
    "        \n",
    "        \n",
    "        "
   ]
  },
  {
   "cell_type": "code",
   "execution_count": 4,
   "id": "2ce2ff9f",
   "metadata": {},
   "outputs": [
    {
     "name": "stdout",
     "output_type": "stream",
     "text": [
      "Enter the year: 100\n",
      "100 is not leap year\n"
     ]
    }
   ],
   "source": [
    "'''. Develop a Python script that determines whether a given year is a leap year or not using\n",
    "conditional statements'''\n",
    "\n",
    "def leap(year):\n",
    "    if(year%4==0):\n",
    "        if(year%100==0):\n",
    "            if(year%400==0):\n",
    "                return True\n",
    "            else:\n",
    "                return False\n",
    "        else:\n",
    "            return True\n",
    "    else:\n",
    "        return False\n",
    "#main\n",
    "\n",
    "def main():\n",
    "    year = int(input(\"Enter the year: \"))\n",
    "    \n",
    "    if leap(year):\n",
    "        print(f\"{year} is leap year\")\n",
    "    else:\n",
    "        print(f\"{year} is not leap year\")\n",
    "main()"
   ]
  },
  {
   "cell_type": "code",
   "execution_count": 25,
   "id": "904f01e3",
   "metadata": {},
   "outputs": [
    {
     "name": "stdout",
     "output_type": "stream",
     "text": [
      "temperature Conversion\n",
      "1.Celsius to Fahrenheit\n",
      "2.Fahrenheit to celsius\n",
      "Enter choice 1-22\n",
      "Enter temp to fah:10\n",
      "10.0F is equal to -12.222222222222221C\n"
     ]
    }
   ],
   "source": [
    "'''a Python program to convert a given temperature from Celsius to Fahrenheit and vice versa'''\n",
    "\n",
    "def cel_to_fah(cel):\n",
    "    fah = (cel*9/5)+32\n",
    "    return fah\n",
    "\n",
    "def fah_to_cel(fah):\n",
    "    cel = (fah-32)*5/9\n",
    "    return cel\n",
    "\n",
    "def main():\n",
    "    print(\"temperature Conversion\")\n",
    "    print(\"1.Celsius to Fahrenheit\")\n",
    "    print(\"2.Fahrenheit to celsius\")\n",
    "    choice = input(\"Enter choice 1-2\")\n",
    "    \n",
    "    if choice =='1':\n",
    "        cel = float(input(\"Enter temp to cel; \"))\n",
    "        fah = cel_to_fah(cel)\n",
    "        print(f\"{cel}C is equal to {fah}F\")\n",
    "        \n",
    "        \n",
    "    elif choice =='2':\n",
    "        fah = float(input(\"Enter temp to fah:\"))\n",
    "        cel = fah_to_cel(fah)\n",
    "        print(f\"{fah}F is equal to {cel}C\")\n",
    "        \n",
    "    else:\n",
    "        print(\"Invalid choice\")\n",
    "        \n",
    "main()"
   ]
  },
  {
   "cell_type": "code",
   "execution_count": 13,
   "id": "e18982fa",
   "metadata": {},
   "outputs": [
    {
     "name": "stdout",
     "output_type": "stream",
     "text": [
      "Area of circle with radius 5: 78.53981633974483\n",
      "Area of rectangle with length 4 and width 6: 24\n",
      "Area of triangle with base 10 and height 5: 25.0\n"
     ]
    }
   ],
   "source": [
    "'''a Python function that calculates the area of different shapes (circle, rectangle, triangle)\n",
    "using default parameters'''\n",
    "\n",
    "import math\n",
    "def cal_area(shape, radius=0, length=0, width=0, base=0, height =0):\n",
    "    if shape == 'circle':\n",
    "        if radius<=0:\n",
    "            return \"radius must be positive for a circle\"\n",
    "        return math.pi*radius**2\n",
    "    elif shape<='rectangle':\n",
    "        if length<=0 or width<=0:\n",
    "            return \"length and width must be positive of recatngle\"\n",
    "        return length*width\n",
    "    elif shape<='triangle':\n",
    "        if base<=0 or height<=0:\n",
    "            return \"base and height must be positive of triangle\"\n",
    "        return 0.5*base*height\n",
    "    else:\n",
    "        return \"Invalid shape.Please choose circle, rectange, or triangle\"\n",
    "    \n",
    "def main():\n",
    "    print(\"Area of circle with radius 5:\",cal_area('circle',radius=5))\n",
    "        \n",
    "    print(\"Area of rectangle with length 4 and width 6:\",cal_area('rectangle', length=4, width=6))\n",
    "        \n",
    "    print(\"Area of triangle with base 10 and height 5:\",cal_area('triange', base=10, height=5))\n",
    "    \n",
    "main()\n",
    "\n"
   ]
  },
  {
   "cell_type": "code",
   "execution_count": 1,
   "id": "3b738f61",
   "metadata": {},
   "outputs": [
    {
     "name": "stdout",
     "output_type": "stream",
     "text": [
      "Even numbers in the list are:\n",
      "4\n",
      "10\n"
     ]
    }
   ],
   "source": [
    "'''Develop a Python script that iterates through a list of numbers and prints only the even\n",
    "numbers. Use continue and break statements effectively '''\n",
    "\n",
    "def even_no(number_list):\n",
    "    for number in number_list:\n",
    "        if number%2!=0:\n",
    "            continue\n",
    "        if number==-1:\n",
    "            break\n",
    "        print(number)\n",
    "        \n",
    "def main():\n",
    "    numbers = [3,4,5,10,-1,19]\n",
    "    print(\"Even numbers in the list are:\")\n",
    "    even_no(numbers)\n",
    "main()\n",
    "            \n"
   ]
  },
  {
   "cell_type": "code",
   "execution_count": null,
   "id": "965723a2",
   "metadata": {},
   "outputs": [],
   "source": []
  }
 ],
 "metadata": {
  "kernelspec": {
   "display_name": "Python 3 (ipykernel)",
   "language": "python",
   "name": "python3"
  },
  "language_info": {
   "codemirror_mode": {
    "name": "ipython",
    "version": 3
   },
   "file_extension": ".py",
   "mimetype": "text/x-python",
   "name": "python",
   "nbconvert_exporter": "python",
   "pygments_lexer": "ipython3",
   "version": "3.11.3"
  }
 },
 "nbformat": 4,
 "nbformat_minor": 5
}
